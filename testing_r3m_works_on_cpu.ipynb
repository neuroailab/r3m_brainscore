{
 "cells": [
  {
   "cell_type": "code",
   "execution_count": 82,
   "id": "c5e2945a",
   "metadata": {},
   "outputs": [],
   "source": [
    "import matplotlib.pyplot as plt"
   ]
  },
  {
   "cell_type": "code",
   "execution_count": 80,
   "id": "3170ca75",
   "metadata": {},
   "outputs": [],
   "source": [
    "%matplotlib inline"
   ]
  },
  {
   "cell_type": "code",
   "execution_count": 54,
   "id": "0d101537",
   "metadata": {},
   "outputs": [],
   "source": [
    "import torch\n",
    "import torchvision.transforms as T\n",
    "import numpy as np\n",
    "from PIL import Image"
   ]
  },
  {
   "cell_type": "code",
   "execution_count": 55,
   "id": "4251f4f4",
   "metadata": {},
   "outputs": [],
   "source": [
    "from r3m import load_r3m"
   ]
  },
  {
   "cell_type": "code",
   "execution_count": null,
   "id": "11f20f78",
   "metadata": {},
   "outputs": [],
   "source": [
    "r3m18 = load_r3m(\"resnet18\") # resnet18, resnet34\n",
    "r3m18.eval();\n",
    "r3m18.to('cuda');"
   ]
  },
  {
   "cell_type": "code",
   "execution_count": null,
   "id": "9540bfb3",
   "metadata": {},
   "outputs": [],
   "source": [
    "r3m18cpu = load_r3m(\"resnet18\") # resnet18, resnet34\n",
    "r3m18cpu.eval();\n",
    "r3m18cpu = r3m18cpu.module.to('cpu')"
   ]
  },
  {
   "cell_type": "code",
   "execution_count": 56,
   "id": "f9bee250",
   "metadata": {},
   "outputs": [],
   "source": [
    "transforms = T.Compose([T.Resize(256),\n",
    "    T.CenterCrop(224),\n",
    "    T.ToTensor()]) # ToTensor() divides by 255"
   ]
  },
  {
   "cell_type": "code",
   "execution_count": 68,
   "id": "f03bc800",
   "metadata": {},
   "outputs": [],
   "source": [
    "rng = np.random.RandomState(seed=1)\n",
    "image = rng.randint(0, 255, (500, 500, 3));"
   ]
  },
  {
   "cell_type": "code",
   "execution_count": 69,
   "id": "ecafb2be",
   "metadata": {},
   "outputs": [],
   "source": [
    "preprocessed_image_gpu = transforms(Image.fromarray(image.astype(np.uint8))).reshape(-1, 3, 224, 224)\n",
    "preprocessed_image_gpu.to('cuda');"
   ]
  },
  {
   "cell_type": "code",
   "execution_count": 86,
   "id": "3e306400",
   "metadata": {},
   "outputs": [],
   "source": [
    "with torch.no_grad():\n",
    "  embeddinggpu = r3m18(preprocessed_image_gpu * 255.0) ## R3M expects image input to be [0-255]"
   ]
  },
  {
   "cell_type": "code",
   "execution_count": 71,
   "id": "49e1e033",
   "metadata": {},
   "outputs": [],
   "source": [
    "## ENCODE IMAGE\n",
    "preprocessed_image = transforms(Image.fromarray(image.astype(np.uint8))).reshape(-1, 3, 224, 224)\n",
    "preprocessed_image.to('cpu');"
   ]
  },
  {
   "cell_type": "code",
   "execution_count": 72,
   "id": "a66b2bdb",
   "metadata": {},
   "outputs": [],
   "source": [
    "with torch.no_grad():\n",
    "  embeddingcpu = r3m18cpu(preprocessed_image * 255.0) ## R3M expects image input to be [0-255]"
   ]
  },
  {
   "cell_type": "code",
   "execution_count": 73,
   "id": "b6abcd21",
   "metadata": {},
   "outputs": [],
   "source": [
    "diff = embeddinggpu.to('cpu') - embeddingcpu"
   ]
  },
  {
   "cell_type": "code",
   "execution_count": 74,
   "id": "a0554590",
   "metadata": {},
   "outputs": [
    {
     "data": {
      "text/plain": [
       "tensor(4.7684e-07)"
      ]
     },
     "execution_count": 74,
     "metadata": {},
     "output_type": "execute_result"
    }
   ],
   "source": [
    "np.abs(diff).max() "
   ]
  },
  {
   "cell_type": "code",
   "execution_count": 75,
   "id": "1b77776b",
   "metadata": {},
   "outputs": [
    {
     "data": {
      "text/plain": [
       "tensor(0.0670)"
      ]
     },
     "execution_count": 75,
     "metadata": {},
     "output_type": "execute_result"
    }
   ],
   "source": [
    "np.abs(embeddingcpu).mean()"
   ]
  },
  {
   "cell_type": "code",
   "execution_count": 89,
   "id": "fea9f842",
   "metadata": {},
   "outputs": [
    {
     "data": {
      "text/plain": [
       "Text(0, 0.5, 'cpu computation')"
      ]
     },
     "execution_count": 89,
     "metadata": {},
     "output_type": "execute_result"
    },
    {
     "data": {
      "image/png": "[encoded data removed]",
      "text/plain": [
       "<Figure size 432x288 with 1 Axes>"
      ]
     },
     "metadata": {
      "needs_background": "light"
     },
     "output_type": "display_data"
    }
   ],
   "source": [
    "plt.scatter(embeddinggpu.to('cpu'), embeddingcpu)\n",
    "plt.xlabel('gpu computation')\n",
    "plt.ylabel('cpu computation')"
   ]
  },
  {
   "cell_type": "code",
   "execution_count": null,
   "id": "10b6fa9f",
   "metadata": {},
   "outputs": [],
   "source": []
  }
 ],
 "metadata": {
  "kernelspec": {
   "display_name": "Python 3 (ipykernel)",
   "language": "python",
   "name": "python3"
  },
  "language_info": {
   "codemirror_mode": {
    "name": "ipython",
    "version": 3
   },
   "file_extension": ".py",
   "mimetype": "text/x-python",
   "name": "python",
   "nbconvert_exporter": "python",
   "pygments_lexer": "ipython3",
   "version": "3.7.5"
  }
 },
 "nbformat": 4,
 "nbformat_minor": 5
}
